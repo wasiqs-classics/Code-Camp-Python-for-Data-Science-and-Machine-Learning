{
 "cells": [
  {
   "cell_type": "code",
   "execution_count": 4,
   "id": "8b0c1505-afc8-42ac-840e-69f4ca78c462",
   "metadata": {},
   "outputs": [],
   "source": [
    "import pickle\n",
    "import numpy as np"
   ]
  },
  {
   "cell_type": "code",
   "execution_count": 6,
   "id": "d394794b-68c8-45f2-ba5d-aeb0d747f991",
   "metadata": {},
   "outputs": [],
   "source": [
    "# Load Model and Scaler for Prediction\n",
    "with open(\"churn_model.pkl\", \"rb\") as f:\n",
    "    model = pickle.load(f)\n",
    "\n",
    "with open(\"scaler.pkl\", \"rb\") as f:\n",
    "    scaler = pickle.load(f)"
   ]
  },
  {
   "cell_type": "code",
   "execution_count": 8,
   "id": "621b127f-a199-4ad6-b65c-1531dd4c398f",
   "metadata": {},
   "outputs": [],
   "source": [
    "# Define user input as a dictionary\n",
    "user_data = {\n",
    "    \"CreditScore\": 650,\n",
    "    \"Gender\": 0,\n",
    "    \"Age\": 40,\n",
    "    \"Tenure\": 3,\n",
    "    \"Balance\": 60000,\n",
    "    \"NumOfProducts\": 2,\n",
    "    \"HasCrCard\": 1,\n",
    "    \"IsActiveMember\": 1,\n",
    "    \"EstimatedSalary\": 50000,\n",
    "    \"Geography_France\": 0,  \n",
    "    \"Geography_Germany\": 1,  \n",
    "    \"Geography_Spain\": 0  \n",
    "}\n",
    "\n",
    "# Ensure values are extracted in the correct feature order\n",
    "feature_order = [\n",
    "    \"CreditScore\", \"Gender\", \"Age\", \"Tenure\", \"Balance\", \"NumOfProducts\", \n",
    "    \"HasCrCard\", \"IsActiveMember\", \"EstimatedSalary\", \n",
    "    \"Geography_France\", \"Geography_Germany\", \"Geography_Spain\"\n",
    "]\n"
   ]
  },
  {
   "cell_type": "code",
   "execution_count": 10,
   "id": "c76de1a6-3078-4945-bfa5-f8fab6eb3ff2",
   "metadata": {},
   "outputs": [],
   "source": [
    "# Convert dictionary to NumPy array in the correct order\n",
    "new_user_data = np.array([ [user_data[feature] for feature in feature_order] ])\n",
    "\n",
    "# Scale the input data\n",
    "new_user_data_scaled = scaler.transform(new_user_data)\n"
   ]
  },
  {
   "cell_type": "code",
   "execution_count": 12,
   "id": "e57798da-bb57-4dbc-b2bf-98216f482629",
   "metadata": {},
   "outputs": [],
   "source": [
    "# Predict Churn\n",
    "churn_prediction = model.predict(new_user_data_scaled)\n",
    "churn_probability = model.predict_proba(new_user_data_scaled)[:, 1]"
   ]
  },
  {
   "cell_type": "code",
   "execution_count": 16,
   "id": "d253f554-4172-4e44-b5f8-b7cb9a91f9f0",
   "metadata": {},
   "outputs": [
    {
     "name": "stdout",
     "output_type": "stream",
     "text": [
      "Predicted Churn: Yes\n",
      "Churn Probability: 0.5966666666666667\n"
     ]
    }
   ],
   "source": [
    "# Display Results\n",
    "print(\"Predicted Churn:\", \"Yes\" if churn_probability[0] > 0.5 else \"No\")\n",
    "print(\"Churn Probability:\", churn_probability[0])"
   ]
  },
  {
   "cell_type": "code",
   "execution_count": null,
   "id": "12cdf18f-4fbf-4cae-ab56-64415bc78407",
   "metadata": {},
   "outputs": [],
   "source": []
  }
 ],
 "metadata": {
  "kernelspec": {
   "display_name": "Python [conda env:base] *",
   "language": "python",
   "name": "conda-base-py"
  },
  "language_info": {
   "codemirror_mode": {
    "name": "ipython",
    "version": 3
   },
   "file_extension": ".py",
   "mimetype": "text/x-python",
   "name": "python",
   "nbconvert_exporter": "python",
   "pygments_lexer": "ipython3",
   "version": "3.12.3"
  }
 },
 "nbformat": 4,
 "nbformat_minor": 5
}
